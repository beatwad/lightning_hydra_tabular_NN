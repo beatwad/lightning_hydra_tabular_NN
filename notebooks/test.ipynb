{
 "cells": [
  {
   "cell_type": "code",
   "execution_count": 7,
   "metadata": {},
   "outputs": [
    {
     "name": "stdout",
     "output_type": "stream",
     "text": [
      "\u001b[0m\u001b[01;34msignal_stat\u001b[0m/\n"
     ]
    }
   ],
   "source": [
    "ls ../data"
   ]
  },
  {
   "cell_type": "code",
   "execution_count": 12,
   "metadata": {},
   "outputs": [
    {
     "data": {
      "text/plain": [
       "['cci',\n",
       " 'btcdom_open',\n",
       " 'low',\n",
       " 'stoch_slowk',\n",
       " 'btcdom_volume_prev_4',\n",
       " 'rsi_prev_4',\n",
       " 'btcdom_high_prev_4',\n",
       " 'cci_prev_4',\n",
       " 'stoch_diff_prev_4',\n",
       " 'btcdom_volume_prev_8',\n",
       " 'cci_prev_8',\n",
       " 'stoch_slowd_prev_8',\n",
       " 'btcdom_volume_prev_12',\n",
       " 'btcdom_volume_prev_16',\n",
       " 'btcdom_volume_prev_20',\n",
       " 'high_prev_24',\n",
       " 'btcdom_volume_prev_24',\n",
       " 'stoch_diff_prev_24',\n",
       " 'stoch_diff_prev_28',\n",
       " 'btcdom_volume_prev_32',\n",
       " 'rsi_prev_32',\n",
       " 'btcdom_volume_prev_40',\n",
       " 'btcdom_volume_prev_44',\n",
       " 'close_prev_44',\n",
       " 'stoch_diff_prev_44',\n",
       " 'cci_prev_44',\n",
       " 'cci_prev_48',\n",
       " 'open_prev_48',\n",
       " 'stoch_slowk_prev_48',\n",
       " 'rsi_prev_52',\n",
       " 'atr_prev_52',\n",
       " 'stoch_diff_prev_56',\n",
       " 'btcdom_volume_prev_56',\n",
       " 'btcdom_volume_prev_68',\n",
       " 'stoch_slowk_prev_68',\n",
       " 'btcd_volume_prev_72',\n",
       " 'btcdom_volume_prev_80',\n",
       " 'high_prev_80',\n",
       " 'cci_prev_84',\n",
       " 'btcdom_volume_prev_92',\n",
       " 'btcdom_volume_prev_96',\n",
       " 'close_prev_100',\n",
       " 'low_prev_100',\n",
       " 'btcdom_volume_prev_108',\n",
       " 'cci_prev_112',\n",
       " 'btcd_volume_prev_120',\n",
       " 'btcdom_volume_prev_124',\n",
       " 'low_prev_124',\n",
       " 'btcdom_volume_prev_136',\n",
       " 'btcdom_volume_prev_140',\n",
       " 'high_prev_144',\n",
       " 'stoch_slowd_prev_152',\n",
       " 'stoch_slowd_prev_156',\n",
       " 'btcdom_volume_prev_168',\n",
       " 'btcd_open_prev_168',\n",
       " 'cci_prev_168',\n",
       " 'rsi_prev_168',\n",
       " 'btcdom_volume_prev_176',\n",
       " 'btcdom_volume_prev_180',\n",
       " 'atr_prev_180',\n",
       " 'btcdom_volume_prev_184',\n",
       " 'btcd_volume_prev_192',\n",
       " 'open_prev_192',\n",
       " 'high_prev_196',\n",
       " 'rsi_prev_204',\n",
       " 'cci_prev_208',\n",
       " 'btcdom_volume_prev_212',\n",
       " 'cci_prev_212',\n",
       " 'macdhist_prev_212',\n",
       " 'btcdom_volume_prev_224',\n",
       " 'btcdom_volume_prev_228',\n",
       " 'btcdom_volume_prev_232',\n",
       " 'btcdom_volume_prev_244',\n",
       " 'btcdom_volume_prev_248',\n",
       " 'btcdom_volume_prev_252',\n",
       " 'btcdom_volume_prev_264',\n",
       " 'btcd_open_prev_264',\n",
       " 'cci_prev_268',\n",
       " 'close_prev_268',\n",
       " 'rsi_prev_272']"
      ]
     },
     "execution_count": 12,
     "metadata": {},
     "output_type": "execute_result"
    }
   ],
   "source": [
    "import pandas as pd\n",
    "import json\n",
    "\n",
    "feature_path = f\"../data/signal_stat/features.json\"\n",
    "with open(feature_path) as f:\n",
    "    feature_dict = json.load(f)\n",
    "\n",
    "feature_dict['features']"
   ]
  }
 ],
 "metadata": {
  "kernelspec": {
   "display_name": "sigbot",
   "language": "python",
   "name": "python3"
  },
  "language_info": {
   "codemirror_mode": {
    "name": "ipython",
    "version": 3
   },
   "file_extension": ".py",
   "mimetype": "text/x-python",
   "name": "python",
   "nbconvert_exporter": "python",
   "pygments_lexer": "ipython3",
   "version": "3.10.5"
  }
 },
 "nbformat": 4,
 "nbformat_minor": 2
}
